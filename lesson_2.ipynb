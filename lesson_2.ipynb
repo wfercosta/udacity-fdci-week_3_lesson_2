{
 "cells": [
  {
   "cell_type": "markdown",
   "metadata": {},
   "source": [
    "#Udacity - Data Science I Fundamentals\n",
    "## Lesson 2 - Working with NumPy and Pandas"
   ]
  },
  {
   "cell_type": "code",
   "execution_count": 6,
   "metadata": {},
   "outputs": [],
   "source": [
    "#imports\n",
    "\n",
    "import unicodecsv as csv"
   ]
  },
  {
   "cell_type": "code",
   "execution_count": 60,
   "metadata": {
    "collapsed": true
   },
   "outputs": [],
   "source": [
    "#General functions\n",
    "\n",
    "def readfile(filename):\n",
    "    with open (filename) as file:\n",
    "        return list(csv.DictReader(file))\n",
    "\n",
    "def dataset_display_first_row(dataset):\n",
    "    displayed = False\n",
    "    for data_point in dataset:\n",
    "        if displayed:\n",
    "            break\n",
    "        for key in data_point:\n",
    "            if data_point[key] == None or \\\n",
    "                    data_point[key] == '' or \\\n",
    "                    key == 'Country':\n",
    "                continue\n",
    "            print data_point['Country'] + ': ' + key + ' => ' \\\n",
    "                  + data_point[key]\n",
    "            displayed = True\n",
    "            break\n",
    "    "
   ]
  },
  {
   "cell_type": "markdown",
   "metadata": {},
   "source": [
    "## Information about the datasets\n",
    "\n",
    "* The data has origin from Gapmider [[link](http://www.gapminder.org/t)]"
   ]
  },
  {
   "cell_type": "markdown",
   "metadata": {},
   "source": [
    "###female_completion_rate:\n",
    "    Primary completion rate is the percentage of female students completing the\n",
    "    last year of primary school. It is calculated by taking the total number of\n",
    "    female students in the last grade of primary school, minus the number of\n",
    "    repeaters in that grade, divided by the total number of children of\n",
    "    official graduation age. The ratio can exceed 100% due to over-aged and\n",
    "    under-aged children who enter primary school late/early and/or repeat\n",
    "    grades. United Nations Educational, Scientific, and Cultural Organization\n",
    "    (UNESCO) Institute for Statistics."
   ]
  },
  {
   "cell_type": "code",
   "execution_count": 63,
   "metadata": {},
   "outputs": [
    {
     "name": "stdout",
     "output_type": "stream",
     "text": [
      "Afghanistan: 1984 => 10.37689\n"
     ]
    }
   ],
   "source": [
    "female_completion_reate = readfile('./datasets/female-completion-rate.csv')\n",
    "dataset_display_first_row(female_completion_reate)"
   ]
  },
  {
   "cell_type": "markdown",
   "metadata": {},
   "source": [
    "### male_completion_rate:\n",
    "    Same as female_completion_rate, but for male students."
   ]
  },
  {
   "cell_type": "code",
   "execution_count": 64,
   "metadata": {},
   "outputs": [
    {
     "name": "stdout",
     "output_type": "stream",
     "text": [
      "Afghanistan: 1984 => 23.32496\n"
     ]
    }
   ],
   "source": [
    "male_completion_rate = readfile('./datasets/male-completion-rate.csv')\n",
    "dataset_display_first_row(male_completion_rate)"
   ]
  },
  {
   "cell_type": "markdown",
   "metadata": {},
   "source": [
    "### life_expectancy:\n",
    "    The average number of years a newborn child would live if current mortality\n",
    "    patterns were to stay the same."
   ]
  },
  {
   "cell_type": "code",
   "execution_count": 61,
   "metadata": {},
   "outputs": [
    {
     "name": "stdout",
     "output_type": "stream",
     "text": [
      "Afghanistan: 1960 => 31.575\n"
     ]
    }
   ],
   "source": [
    "\n",
    "life_expectancy = readfile('./datasets/life-expectancy.csv')\n",
    "dataset_display_first_row(life_expectancy)\n"
   ]
  },
  {
   "cell_type": "markdown",
   "metadata": {},
   "source": [
    "### gpd_per_capita:\n",
    "    Gross Domestic Product per capita in constant 2000 US$. The inflation but\n",
    "    not the differences in the cost of living between countries has been taken\n",
    "    into account."
   ]
  },
  {
   "cell_type": "code",
   "execution_count": 67,
   "metadata": {},
   "outputs": [
    {
     "name": "stdout",
     "output_type": "stream",
     "text": [
      "Albania: 2003 => 1381.0408321749\n"
     ]
    }
   ],
   "source": [
    "gdp_per_capita = readfile('./datasets/gdp-per-capita.csv')\n",
    "dataset_display_first_row(gdp_per_capita)"
   ]
  },
  {
   "cell_type": "markdown",
   "metadata": {},
   "source": [
    "### employment_above_15:\n",
    "    Percentage of total population, age above 15, that has been employed during\n",
    "    the given year."
   ]
  },
  {
   "cell_type": "code",
   "execution_count": 66,
   "metadata": {},
   "outputs": [
    {
     "name": "stdout",
     "output_type": "stream",
     "text": [
      "Afghanistan: 1991 => 56.7000007629\n"
     ]
    }
   ],
   "source": [
    "employment_above_15 = readfile('./datasets/employment-above-15.csv')\n",
    "dataset_display_first_row(employment_above_15)"
   ]
  }
 ],
 "metadata": {
  "kernelspec": {
   "display_name": "Python 2",
   "language": "python",
   "name": "python2"
  },
  "language_info": {
   "codemirror_mode": {
    "name": "ipython",
    "version": 2
   },
   "file_extension": ".py",
   "mimetype": "text/x-python",
   "name": "python",
   "nbconvert_exporter": "python",
   "pygments_lexer": "ipython2",
   "version": "2.7.6"
  }
 },
 "nbformat": 4,
 "nbformat_minor": 0
}
